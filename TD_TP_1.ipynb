{
  "nbformat": 4,
  "nbformat_minor": 0,
  "metadata": {
    "colab": {
      "name": "TD/TP 1.ipynb",
      "provenance": []
    },
    "kernelspec": {
      "name": "python3",
      "display_name": "Python 3"
    }
  },
  "cells": [
    {
      "cell_type": "markdown",
      "metadata": {
        "id": "o6so36Y03Lla",
        "colab_type": "text"
      },
      "source": [
        "1. Écrire un programme qui retourne et affiche la plus petite valeur de deux valeurs lues à\n",
        "partir d'un clavier"
      ]
    },
    {
      "cell_type": "code",
      "metadata": {
        "id": "Ek0M1KeE3BzR",
        "colab_type": "code",
        "colab": {}
      },
      "source": [
        "a = int (input('La valeur a : '))\n",
        "b = int (input('la valeur b : '))\n",
        "print ('Le min de ces deux valeurs est ',min(a,b))"
      ],
      "execution_count": 0,
      "outputs": []
    },
    {
      "cell_type": "markdown",
      "metadata": {
        "id": "74d2WJaH4kz2",
        "colab_type": "text"
      },
      "source": [
        "2. Écrire un programme qui permet de lire deux chaînes de caractères à partir d'un clavier et\n",
        "qui affiche la plus longue des deux"
      ]
    },
    {
      "cell_type": "code",
      "metadata": {
        "id": "8hLDwQ_34mXL",
        "colab_type": "code",
        "colab": {}
      },
      "source": [
        "a = str(input('La 1 chaine '))\n",
        "b = str(input('La 2 chaine '))\n",
        "x1 = len(a)\n",
        "x2 = len(b)\n",
        "if(x1 >x2 ): print('La plus grande chaine est ', a)\n",
        "else : print('La plus grande chaine est ',b )"
      ],
      "execution_count": 0,
      "outputs": []
    }
  ]
}