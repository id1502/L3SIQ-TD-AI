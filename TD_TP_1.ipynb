{
  "nbformat": 4,
  "nbformat_minor": 0,
  "metadata": {
    "colab": {
      "name": "TD/TP 1.ipynb",
      "provenance": [],
      "collapsed_sections": []
    },
    "kernelspec": {
      "name": "python3",
      "display_name": "Python 3"
    }
  },
  "cells": [
    {
      "cell_type": "markdown",
      "metadata": {
        "id": "o6so36Y03Lla",
        "colab_type": "text"
      },
      "source": [
        "**Exo1:** Écrire un programme qui retourne et affiche la plus petite valeur de deux valeurs lues à\n",
        "partir d'un clavier"
      ]
    },
    {
      "cell_type": "code",
      "metadata": {
        "id": "Ek0M1KeE3BzR",
        "colab_type": "code",
        "colab": {}
      },
      "source": [
        "a = int (input('La valeur a : '))\n",
        "b = int (input('la valeur b : '))\n",
        "print ('Le min de ces deux valeurs est ',min(a,b))"
      ],
      "execution_count": 0,
      "outputs": []
    },
    {
      "cell_type": "markdown",
      "metadata": {
        "id": "74d2WJaH4kz2",
        "colab_type": "text"
      },
      "source": [
        "**Exo2:** Écrire un programme qui permet de lire deux chaînes de caractères à partir d'un clavier et\n",
        "qui affiche la plus longue des deux"
      ]
    },
    {
      "cell_type": "code",
      "metadata": {
        "id": "8hLDwQ_34mXL",
        "colab_type": "code",
        "colab": {}
      },
      "source": [
        "a = str(input('La 1 chaine '))\n",
        "b = str(input('La 2 chaine '))\n",
        "x1 = len(a)\n",
        "x2 = len(b)\n",
        "if(x1 >x2 ): print('La plus grande chaine est ', a)\n",
        "else : print('La plus grande chaine est ',b )"
      ],
      "execution_count": 0,
      "outputs": []
    },
    {
      "cell_type": "markdown",
      "metadata": {
        "id": "6xJKTlrm5ZJe",
        "colab_type": "text"
      },
      "source": [
        "**Exo3:** Écrire un programme qui permet de convertir un montant dollars en euros sachant que 1\n",
        "dollar = 0.92 euro"
      ]
    },
    {
      "cell_type": "code",
      "metadata": {
        "id": "CAKGWP6_5cFv",
        "colab_type": "code",
        "colab": {}
      },
      "source": [
        "x= 0.92\n",
        "def convertir(devise , montant):\n",
        "    if(devise== \"dollar\"):\n",
        "        print(montant* x)\n",
        "    elif(devise== 'euro'):\n",
        "        print(montant/x)\n",
        "    else:\n",
        "        print('les devises sont uniqument le dollar et l euro: ')\n",
        "convertir('euro' , 920)"
      ],
      "execution_count": 0,
      "outputs": []
    },
    {
      "cell_type": "markdown",
      "metadata": {
        "id": "d6NLDl8s7u6s",
        "colab_type": "text"
      },
      "source": [
        "**Exo4:** Écrire un programme qui affiche en fonction d'une valeur saisie l'un des messages suivants:\n",
        "* Ce nombre est pair\n",
        "* Ce nombre est impair et multiple de 3\n",
        "* Ce nombre n'est ni pair ni multiple de 3"
      ]
    },
    {
      "cell_type": "code",
      "metadata": {
        "id": "Zhx3pxmB7v9n",
        "colab_type": "code",
        "colab": {}
      },
      "source": [
        "def saisir (val): \n",
        "    if ( val % 2 == 0 ): \n",
        "        print (val , ' est pair')\n",
        "    elif ( val % 3 == 0):\n",
        "        print( val, ' est impair et multiple de 3')\n",
        "    else: \n",
        "        print(val, ' est impair et non multiple de 3')\n",
        "saisir(12)\n",
        "saisir(15)\n",
        "saisir(7)\n",
        "    "
      ],
      "execution_count": 0,
      "outputs": []
    }
  ]
}