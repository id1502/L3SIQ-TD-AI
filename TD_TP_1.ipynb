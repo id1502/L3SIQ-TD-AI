{
  "nbformat": 4,
  "nbformat_minor": 0,
  "metadata": {
    "colab": {
      "name": "TD/TP 1.ipynb",
      "provenance": [],
      "include_colab_link": true
    },
    "kernelspec": {
      "name": "python3",
      "display_name": "Python 3"
    }
  },
  "cells": [
    {
      "cell_type": "markdown",
      "metadata": {
        "id": "view-in-github",
        "colab_type": "text"
      },
      "source": [
        "<a href=\"https://colab.research.google.com/github/ilhemederdour/L3SIQ-TD-AI/blob/master/TD_TP_1.ipynb\" target=\"_parent\"><img src=\"https://colab.research.google.com/assets/colab-badge.svg\" alt=\"Open In Colab\"/></a>"
      ]
    },
    {
      "cell_type": "markdown",
      "metadata": {
        "id": "o6so36Y03Lla",
        "colab_type": "text"
      },
      "source": [
        "1. Écrire un programme qui retourne et affiche la plus petite valeur de deux valeurs lues à\n",
        "partir d'un clavier"
      ]
    },
    {
      "cell_type": "code",
      "metadata": {
        "id": "Ek0M1KeE3BzR",
        "colab_type": "code",
        "colab": {
          "base_uri": "https://localhost:8080/",
          "height": 72
        },
        "outputId": "fe4b1762-a3f2-45de-b6d7-f1c9380f025b"
      },
      "source": [
        "a = int (input('La valeur a : '))\n",
        "b = int (input('la valeur b : '))\n",
        "print ('Le min de ces deux valeurs est ',min(a,b))"
      ],
      "execution_count": 1,
      "outputs": [
        {
          "output_type": "stream",
          "text": [
            "La valeur a : 12\n",
            "la valeur b : 58\n",
            "Le min de ces deux valeurs est  12\n"
          ],
          "name": "stdout"
        }
      ]
    }
  ]
}